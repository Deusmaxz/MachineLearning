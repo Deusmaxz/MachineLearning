{
  "nbformat": 4,
  "nbformat_minor": 0,
  "metadata": {
    "colab": {
      "name": "FinalExam2_Twitter_Sentiment_Analysis.ipynb",
      "provenance": [],
      "authorship_tag": "ABX9TyOM57QdIjUW+x+uPJdM+L1v",
      "include_colab_link": true
    },
    "kernelspec": {
      "name": "python3",
      "display_name": "Python 3"
    },
    "language_info": {
      "name": "python"
    }
  },
  "cells": [
    {
      "cell_type": "markdown",
      "metadata": {
        "id": "view-in-github",
        "colab_type": "text"
      },
      "source": [
        "<a href=\"https://colab.research.google.com/github/Deusmaxz/MachineLearning/blob/main/FinalExam/Twitter_Sentiment/FinalExam2_Twitter_Sentiment_Analysis.ipynb\" target=\"_parent\"><img src=\"https://colab.research.google.com/assets/colab-badge.svg\" alt=\"Open In Colab\"/></a>"
      ]
    },
    {
      "cell_type": "code",
      "execution_count": 1,
      "metadata": {
        "colab": {
          "base_uri": "https://localhost:8080/"
        },
        "id": "A6E42cJk1kpE",
        "outputId": "c7c274ee-1a71-4792-9b88-ef9f7544e9c4"
      },
      "outputs": [
        {
          "output_type": "stream",
          "name": "stdout",
          "text": [
            "Cloning into 'Twitter-Sentiment-Analysis'...\n",
            "remote: Enumerating objects: 120, done.\u001b[K\n",
            "remote: Counting objects: 100% (120/120), done.\u001b[K\n",
            "remote: Compressing objects: 100% (116/116), done.\u001b[K\n",
            "remote: Total 120 (delta 60), reused 0 (delta 0), pack-reused 0\u001b[K\n",
            "Receiving objects: 100% (120/120), 2.37 MiB | 14.21 MiB/s, done.\n",
            "Resolving deltas: 100% (60/60), done.\n"
          ]
        }
      ],
      "source": [
        "!git clone https://github.com/Vedurumudi-Priyanka/Twitter-Sentiment-Analysis.git"
      ]
    },
    {
      "cell_type": "code",
      "source": [
        "!pip install phyton"
      ],
      "metadata": {
        "colab": {
          "base_uri": "https://localhost:8080/"
        },
        "id": "n9sfZDOZ21ck",
        "outputId": "2d7f7c6a-5e34-45c2-d133-eb57f28e3753"
      },
      "execution_count": 7,
      "outputs": [
        {
          "output_type": "stream",
          "name": "stdout",
          "text": [
            "Collecting phyton\n",
            "  Downloading phyton-1.0.0a1-py3-none-any.whl (1.6 kB)\n",
            "Installing collected packages: phyton\n",
            "Successfully installed phyton-1.0.0a1\n"
          ]
        }
      ]
    },
    {
      "cell_type": "code",
      "source": [
        "!python2 /content/Twitter-Sentiment-Analysis/code/preprocess.py /content/test-processed.csv"
      ],
      "metadata": {
        "colab": {
          "base_uri": "https://localhost:8080/"
        },
        "id": "xeKINVQG12I6",
        "outputId": "42ffbe25-f965-4c0c-b4cf-d39d500a0474"
      },
      "execution_count": 23,
      "outputs": [
        {
          "output_type": "stream",
          "name": "stdout",
          "text": [
            "\n",
            "Saved processed tweets to: /content/test-processed-processed.csv\n"
          ]
        }
      ]
    },
    {
      "cell_type": "code",
      "source": [
        "!python2 /content/Twitter-Sentiment-Analysis/code/preprocess.py /content/train-processed.csv"
      ],
      "metadata": {
        "colab": {
          "base_uri": "https://localhost:8080/"
        },
        "id": "lxrJL7C33BtX",
        "outputId": "c1a202a7-20d6-472e-afb3-792cc6bbbfa0"
      },
      "execution_count": 24,
      "outputs": [
        {
          "output_type": "stream",
          "name": "stdout",
          "text": [
            "\n",
            "Saved processed tweets to: /content/train-processed-processed.csv\n"
          ]
        }
      ]
    },
    {
      "cell_type": "code",
      "source": [
        "!python2 /content/Twitter-Sentiment-Analysis/code/stats.py /content/train-processed.csv"
      ],
      "metadata": {
        "colab": {
          "base_uri": "https://localhost:8080/"
        },
        "id": "zFIp2sL73-Xj",
        "outputId": "ef20ed14-0376-41a3-f68d-3454086e7aa5"
      },
      "execution_count": 27,
      "outputs": [
        {
          "output_type": "stream",
          "name": "stdout",
          "text": [
            "\n",
            "Calculating frequency distribution\n",
            "Saved uni-frequency distribution to /content/train-processed-freqdist.pkl\n",
            "Saved bi-frequency distribution to /content/train-processed-freqdist-bi.pkl\n",
            "\n",
            "[Analysis Statistics]\n",
            "Tweets => Total: 0, Positive: 0, Negative: 0\n",
            "Traceback (most recent call last):\n",
            "  File \"/content/Twitter-Sentiment-Analysis/code/stats.py\", line 106, in <module>\n",
            "    print 'User Mentions => Total: %d, Avg: %.4f, Max: %d' % (num_mentions, num_mentions / float(num_tweets), max_mentions)\n",
            "ZeroDivisionError: float division by zero\n"
          ]
        }
      ]
    },
    {
      "cell_type": "code",
      "source": [
        "!python2 /content/Twitter-Sentiment-Analysis/code/baseline.py  TRAIN = True"
      ],
      "metadata": {
        "colab": {
          "base_uri": "https://localhost:8080/"
        },
        "id": "99ov7o0G4bbc",
        "outputId": "ece5d31a-6a1c-49f7-c0ae-003d6e04ccf2"
      },
      "execution_count": 29,
      "outputs": [
        {
          "output_type": "stream",
          "name": "stdout",
          "text": [
            "Traceback (most recent call last):\n",
            "  File \"/content/Twitter-Sentiment-Analysis/code/baseline.py\", line 40, in <module>\n",
            "    correct = sum([1 for p in predictions if p[1] == p[2]]) * 100.0 / len(predictions)\n",
            "ZeroDivisionError: float division by zero\n"
          ]
        }
      ]
    },
    {
      "cell_type": "code",
      "source": [
        "!python2 /content/Twitter-Sentiment-Analysis/code/randomforest.py  TRAIN = True"
      ],
      "metadata": {
        "colab": {
          "base_uri": "https://localhost:8080/"
        },
        "id": "tHhClj0B6sOo",
        "outputId": "42ec3e62-68ab-4f1c-d1a7-c14f0abb506c"
      },
      "execution_count": 31,
      "outputs": [
        {
          "output_type": "stream",
          "name": "stdout",
          "text": [
            "Generating feature vectors\n",
            "\n",
            "\n",
            "Extracting features & training batches\n",
            "Traceback (most recent call last):\n",
            "  File \"/content/Twitter-Sentiment-Analysis/code/randomforest.py\", line 122, in <module>\n",
            "    n_train_batches = int(np.ceil(len(train_tweets) / float(batch_size)))\n",
            "ZeroDivisionError: float division by zero\n"
          ]
        }
      ]
    },
    {
      "cell_type": "code",
      "source": [
        ""
      ],
      "metadata": {
        "id": "V8OXa08u7ucy"
      },
      "execution_count": null,
      "outputs": []
    }
  ]
}